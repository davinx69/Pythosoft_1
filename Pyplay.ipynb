{
  "nbformat": 4,
  "nbformat_minor": 0,
  "metadata": {
    "colab": {
      "provenance": [],
      "authorship_tag": "ABX9TyOIzEoDPn0Sjf1FFVtc9Ul/",
      "include_colab_link": true
    },
    "kernelspec": {
      "name": "python3",
      "display_name": "Python 3"
    },
    "language_info": {
      "name": "python"
    }
  },
  "cells": [
    {
      "cell_type": "markdown",
      "metadata": {
        "id": "view-in-github",
        "colab_type": "text"
      },
      "source": [
        "<a href=\"https://colab.research.google.com/github/davinx69/Pythosoft_1/blob/main/Pyplay.ipynb\" target=\"_parent\"><img src=\"https://colab.research.google.com/assets/colab-badge.svg\" alt=\"Open In Colab\"/></a>"
      ]
    },
    {
      "cell_type": "code",
      "execution_count": 1,
      "metadata": {
        "colab": {
          "base_uri": "https://localhost:8080/"
        },
        "id": "JmgzQZ4hbSYm",
        "outputId": "0a375896-385f-4e63-bc30-33e0321d3b69"
      },
      "outputs": [
        {
          "output_type": "stream",
          "name": "stdout",
          "text": [
            "Hello VIncent, Welcome to Python.\n"
          ]
        }
      ],
      "source": [
        "#WRITING MY FIRST PYTHON CODE\n",
        "\n",
        "print(\"Hello VIncent, Welcome to Python.\")"
      ]
    },
    {
      "cell_type": "code",
      "source": [
        "#Exercise 1: Basic Math\n",
        "\n",
        "#Addition\n",
        "a = 10\n",
        "b = 20\n",
        "print(\"The sum of a and b is:\", a + b)\n",
        "Sola = 25\n",
        "Bola = 50\n",
        "print(\"The sum of Sola and bola age is:\", Sola + Bola)\n",
        "\n",
        "\n",
        "#Mutiplication\n",
        "c = 5\n",
        "d = 4\n",
        "print(\"The product of c and d is:\", c * d)\n",
        "Banana = 5\n",
        "Pupils = 25\n",
        "print(\"The Teacher gave 25 Pupils 5 Bananas each and. How many banana do they hav altogether?\", Banana * Pupils )"
      ],
      "metadata": {
        "colab": {
          "base_uri": "https://localhost:8080/"
        },
        "id": "SUgTrjTtbm4i",
        "outputId": "fc3c23be-c228-4e7e-c167-ddfe69784f9c"
      },
      "execution_count": 9,
      "outputs": [
        {
          "output_type": "stream",
          "name": "stdout",
          "text": [
            "The sum of a and b is: 30\n",
            "The sum of Sola and bola age is: 75\n",
            "The product of c and d is: 20\n",
            "The Teacher gave 25 Pupils 5 Bananas each and. How many banana do they hav altogether? 125\n"
          ]
        }
      ]
    },
    {
      "cell_type": "code",
      "source": [
        "#Exercise 2: Working with Strings\n",
        "name1 = 'Vincent'\n",
        "name2 = 'Tunde'\n",
        "print(\"Hello \" + name + \" ! How are you today?\")\n"
      ],
      "metadata": {
        "colab": {
          "base_uri": "https://localhost:8080/"
        },
        "id": "GKgpiJwqcG3S",
        "outputId": "3fb83865-3dca-4818-88e5-761e41131093"
      },
      "execution_count": 6,
      "outputs": [
        {
          "output_type": "stream",
          "name": "stdout",
          "text": [
            "Hello Vincent ! How are you today?\n"
          ]
        }
      ]
    },
    {
      "cell_type": "code",
      "source": [
        "#Exercise 3: Using Loops\n",
        "#print numbers from 1 - 5\n",
        "for i in range(1,10):\n",
        "  print(i)\n"
      ],
      "metadata": {
        "colab": {
          "base_uri": "https://localhost:8080/"
        },
        "id": "w49QYJKSd1Ng",
        "outputId": "bb718cfa-17aa-423b-d8f3-5ba1cdfc59a7"
      },
      "execution_count": 14,
      "outputs": [
        {
          "output_type": "stream",
          "name": "stdout",
          "text": [
            "1\n",
            "2\n",
            "3\n",
            "4\n",
            "5\n",
            "6\n",
            "7\n",
            "8\n",
            "9\n"
          ]
        }
      ]
    },
    {
      "cell_type": "code",
      "source": [],
      "metadata": {
        "id": "KtOn6KWnjC-5"
      },
      "execution_count": null,
      "outputs": []
    }
  ]
}