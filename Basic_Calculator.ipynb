{
  "nbformat": 4,
  "nbformat_minor": 0,
  "metadata": {
    "colab": {
      "provenance": [],
      "authorship_tag": "ABX9TyPv3dtuRkBqrmeUtsnnkb2m",
      "include_colab_link": true
    },
    "kernelspec": {
      "name": "python3",
      "display_name": "Python 3"
    },
    "language_info": {
      "name": "python"
    }
  },
  "cells": [
    {
      "cell_type": "markdown",
      "metadata": {
        "id": "view-in-github",
        "colab_type": "text"
      },
      "source": [
        "<a href=\"https://colab.research.google.com/github/davinx69/Pythosoft_1/blob/main/Basic_Calculator.ipynb\" target=\"_parent\"><img src=\"https://colab.research.google.com/assets/colab-badge.svg\" alt=\"Open In Colab\"/></a>"
      ]
    },
    {
      "cell_type": "code",
      "execution_count": 1,
      "metadata": {
        "colab": {
          "base_uri": "https://localhost:8080/"
        },
        "id": "cCHkXVm9uqed",
        "outputId": "c104d671-6df5-4d26-9bcf-c034c01f1457"
      },
      "outputs": [
        {
          "output_type": "stream",
          "name": "stdout",
          "text": [
            "Welcome back to the basic calculator!\n",
            "You can perform Addition, Subtraction, Multiplication, or Division.\n"
          ]
        }
      ],
      "source": [
        "# Welcome message\n",
        "print(\"Welcome back to the basic calculator!\")\n",
        "print(\"You can perform Addition, Subtraction, Multiplication, or Division.\")"
      ]
    },
    {
      "cell_type": "code",
      "source": [
        "# Display menu for operations\n",
        "print(\"Select an option:\")\n",
        "print(\"1. Addition\")\n",
        "print(\"2. Subtraction\")\n",
        "print(\"3. Multiplication\")\n",
        "print(\"4. Division\")\n",
        "\n",
        "# Get the user's choice\n",
        "choice = input(\"Enter the number of the operation you want to perform (1/2/3/4): \")"
      ],
      "metadata": {
        "colab": {
          "base_uri": "https://localhost:8080/"
        },
        "id": "2Zci96B3vv5S",
        "outputId": "62ecc404-f9c7-4b6d-d08d-f8036043974b"
      },
      "execution_count": 2,
      "outputs": [
        {
          "name": "stdout",
          "output_type": "stream",
          "text": [
            "Select an option:\n",
            "1. Addition\n",
            "2. Subtraction\n",
            "3. Multiplication\n",
            "4. Division\n",
            "Enter the number of the operation you want to perform (1/2/3/4): 3\n"
          ]
        }
      ]
    },
    {
      "cell_type": "code",
      "source": [
        "# Get input numbers from the user\n",
        "num1 = float(input(\"Enter the first number: \"))\n",
        "num2 = float(input(\"Enter the second number: \"))"
      ],
      "metadata": {
        "colab": {
          "base_uri": "https://localhost:8080/"
        },
        "id": "WR1yXnfivyNd",
        "outputId": "fb4bbd8b-9a20-45fd-e7da-2644a47c61ed"
      },
      "execution_count": 4,
      "outputs": [
        {
          "name": "stdout",
          "output_type": "stream",
          "text": [
            "Enter the first number: 5.34\n",
            "Enter the second number: 5.3\n"
          ]
        }
      ]
    },
    {
      "cell_type": "code",
      "source": [
        "# Perform the chosen operation\n",
        "if choice == '1':\n",
        "    result = num1 + num2\n",
        "    print(f\"The result of addition is: {result}\")\n",
        "elif choice == '2':\n",
        "    result = num1 - num2\n",
        "    print(f\"The result of subtraction is: {result}\")\n",
        "elif choice == '3':\n",
        "    result = num1 * num2\n",
        "    print(f\"The result of multiplication is: {result}\")\n",
        "elif choice == '4':\n",
        "    if num2 != 0:\n",
        "        result = num1 / num2\n",
        "        print(f\"The result of division is: {result}\")\n",
        "    else:\n",
        "        print(\"Error: Division by zero is not allowed.\")\n",
        "else:\n",
        "    print(\"Invalid choice. Please restart the program and choose a valid option.\")"
      ],
      "metadata": {
        "id": "CwNPE0zDwdZM"
      },
      "execution_count": null,
      "outputs": []
    }
  ]
}